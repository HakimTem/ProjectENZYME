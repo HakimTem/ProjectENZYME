{
  "cells": [
    {
      "cell_type": "markdown",
      "metadata": {
        "colab_type": "text",
        "id": "view-in-github"
      },
      "source": [
        "<a href=\"https://colab.research.google.com/github/HakimTem/ProjectENZYME/blob/main/PROJECT_ENZYME.ipynb\" target=\"_parent\"><img src=\"https://colab.research.google.com/assets/colab-badge.svg\" alt=\"Open In Colab\"/></a>"
      ]
    },
    {
      "cell_type": "markdown",
      "metadata": {
        "id": "Jo3GL5UyiF1Y"
      },
      "source": [
        "# Download Repository\n",
        "We fetch from the public repo"
      ]
    },
    {
      "cell_type": "code",
      "execution_count": 1,
      "metadata": {
        "colab": {
          "base_uri": "https://localhost:8080/"
        },
        "id": "I3NZWK-wqOB-",
        "outputId": "19419aeb-4826-46d5-ba4a-df88b4530192"
      },
      "outputs": [
        {
          "name": "stdout",
          "output_type": "stream",
          "text": [
            "Cloning into 'ProjectENZYME'...\n",
            "remote: Enumerating objects: 12, done.\u001b[K\n",
            "remote: Counting objects: 100% (12/12), done.\u001b[K\n",
            "remote: Compressing objects: 100% (11/11), done.\u001b[K\n",
            "remote: Total 12 (delta 0), reused 0 (delta 0), pack-reused 0\u001b[K\n",
            "Unpacking objects: 100% (12/12), 7.74 MiB | 7.46 MiB/s, done.\n"
          ]
        }
      ],
      "source": [
        "!git clone https://github.com/HakimTem/ProjectENZYME.git"
      ]
    },
    {
      "cell_type": "markdown",
      "metadata": {
        "id": "1ifO0UtuCFkr"
      },
      "source": [
        "# Dataset Collection\n",
        "We shall use the UniProt dataset as this provides an annotation score, and it is fairly recent for our purposes.\n"
      ]
    },
    {
      "cell_type": "code",
      "execution_count": 5,
      "metadata": {
        "id": "gGm9bRf1gjJC"
      },
      "outputs": [],
      "source": [
        "import pandas as pd\n",
        "# Read first two csv files with '\\t' separator\n",
        "tsv1 = pd.read_csv(\"EC1.tsv\", sep='\\t')\n",
        "tsv2 = pd.read_csv(\"EC2.tsv\", sep='\\t')\n",
        "Cols=[\"Entry\", \"Entry Name\", \"EC number\",\"Sequence\"]\n",
        "# store the result in Output_df dataframe.\n",
        "Output_df = pd.merge(tsv1, tsv2, how=\"outer\", on=Cols)\n",
        "\n",
        "# # store remaining file names in list\n",
        "tsv_files=[]\n",
        "for i in range(3,8):\n",
        "  tsv_files.append('EC'+str(i)+'.tsv')\n",
        "\n",
        "\n",
        "# # One by one read tsv files and merge with\n",
        "# # 'Output_df' dataframe and again store\n",
        "# # the final result in Output_df\n",
        "for i in tsv_files:\n",
        "    path = i\n",
        "    tsv = pd.read_csv(path, sep='\\t')\n",
        "    Output_df = pd.merge(Output_df, tsv,\n",
        "                         how='outer',on=Cols)\n",
        "\n",
        "# # Now store the 'Output_df'\n",
        "# # in tsv file 'Output.tsv'\n",
        "Output_df.to_csv(\"Output.tsv\",\n",
        "                 sep=\"\\t\", header=True,\n",
        "                 index=False)\n"
      ]
    },
    {
      "attachments": {},
      "cell_type": "markdown",
      "metadata": {},
      "source": [
        "# Helper functions for data collection\n",
        "\n",
        "getEnzymes(int mainClass) : returns all enzymes in a specific main class\n",
        "\n",
        "\n",
        "getMainClass(string sequence) : returns the main class from the sequence string\n",
        "\n"
      ]
    },
    {
      "cell_type": "code",
      "execution_count": 51,
      "metadata": {},
      "outputs": [
        {
          "name": "stdout",
          "output_type": "stream",
          "text": [
            "[('1.1.3.13', 'MAIPEEFDILVLGGGSSGSCIAGRLANLDHSLKVGLIEAGENNLNNPWVYLPGIYPRNMKLDSKTASFYTSNPSPHLNGRRAIVPCANVLGGGSSINFMMYTRGSASDYDDFQAEGWKTKDLLPLMKKTETYQRACNNPDIHGFEGPIKVSFGNYTYPVCQDFLRASESQGIPYVDDLEDLVTAHGAEHWLKWINRDTGRRSDSAHAFVHSTMRNHDNLYLICNTKVDKIIVEDGRAAAVRTVPSKPLNPKKPSHKIYRARKQIVLSCGTISSPLVLQRSGFGDPIKLRAAGVKPLVNLPGVGRNFQDHYCFFSPYRIKPQYESFDDFVRGDAEIQKRVFDQWYANGTGPLATNGIEAGVKIRPTPEELSQMDESFQEGYREYFEDKPDKPVMHYSIIAGFFGDHTKIPPGKYMTMFHFLEYPFSRGSIHITSPDPYAAPDFDPGFMNDERDMAPMVWAYKKSRETARRMDHFAGEVTSHHPLFPYSSEARALEMDLETSNAYGGPLNLSAGLAHGSWTQPLKKPTAKNEGHVTSNQVELHPDIEYDEEDDKAIENYIREHTETTWHCLGTCSIGPREGSKIVKWGGVLDHRSNVYGVKGLKVGDLSVCPDNVGCNTYTTALLIGEKTATLVGEDLGYSGEALDMTVPQFKLGTYEKTGLARF')]\n",
            "1.1.3.13\n"
          ]
        }
      ],
      "source": [
        "def getEnzymes(ec):\n",
        "    #read the file 'Output.tsv\n",
        "    df = pd.read_csv(\"Output.tsv\", sep='\\t')\n",
        "    #filter the dataframe with given number as the first number in the ec number\n",
        "    df = df[df['EC number'].str.startswith(ec)]\n",
        "    #create a list with the EC number and sequence of the enzymes from the filtered dataframe\n",
        "    output=[]\n",
        "    for index, row in df.iterrows():\n",
        "        #append a tuple with the EC number and sequence to the list\n",
        "        output.append((str(row['EC number']),str(row['Sequence'])))\n",
        "    return output[0:10]\n",
        "\n",
        "print(getEnzymes('1.1.3.13'))\n",
        "\n",
        "def getMainClass(seq):\n",
        "    #read the file 'Output.tsv\n",
        "    df = pd.read_csv(\"Output.tsv\", sep='\\t')\n",
        "    #filter the dataframe with the given sequence as the sequence of the enzyme\n",
        "    df = df[df['Sequence'].str.startswith(seq)]\n",
        "    #Store the EC number of this enzyme as a string\n",
        "    ec = str(df['EC number'].values[0])\n",
        "    return ec\n",
        "\n",
        "print(getMainClass('MAIPEEFDILVLGGGSSGSCIAGRLANLDHSLKVGLIEAGENNLNNPWVYLPGIYPRNMKLDSKTASFYTSNPSPHLNGRRAIVPCANVLGGGSSINFMMYTRGSASDYDDFQAEGWKTKDLLPLMKKTETYQRACNNPDIHGFEGPIKVSFGNYTYPVCQDFLRASESQGIPYVDDLEDLVTAHGAEHWLKWINRDTGRRSDSAHAFVHSTMRNHDNLYLICNTKVDKIIVEDGRAAAVRTVPSKPLNPKKPSHKIYRARKQIVLSCGTISSPLVLQRSGFGDPIKLRAAGVKPLVNLPGVGRNFQDHYCFFSPYRIKPQYESFDDFVRGDAEIQKRVFDQWYANGTGPLATNGIEAGVKIRPTPEELSQMDESFQEGYREYFEDKPDKPVMHYSIIAGFFGDHTKIPPGKYMTMFHFLEYPFSRGSIHITSPDPYAAPDFDPGFMNDERDMAPMVWAYKKSRETARRMDHFAGEVTSHHPLFPYSSEARALEMDLETSNAYGGPLNLSAGLAHGSWTQPLKKPTAKNEGHVTSNQVELHPDIEYDEEDDKAIENYIREHTETTWHCLGTCSIGPREGSKIVKWGGVLDHRSNVYGVKGLKVGDLSVCPDNVGCNTYTTALLIGEKTATLVGEDLGYSGEALDMTVPQFKLGTYEKTGLARF'))"
      ]
    }
  ],
  "metadata": {
    "colab": {
      "include_colab_link": true,
      "provenance": []
    },
    "kernelspec": {
      "display_name": "Python 3",
      "name": "python3"
    },
    "language_info": {
      "codemirror_mode": {
        "name": "ipython",
        "version": 3
      },
      "file_extension": ".py",
      "mimetype": "text/x-python",
      "name": "python",
      "nbconvert_exporter": "python",
      "pygments_lexer": "ipython3",
      "version": "3.9.13"
    }
  },
  "nbformat": 4,
  "nbformat_minor": 0
}
