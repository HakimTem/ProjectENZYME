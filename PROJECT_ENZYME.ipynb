{
  "nbformat": 4,
  "nbformat_minor": 0,
  "metadata": {
    "colab": {
      "provenance": [],
      "include_colab_link": true
    },
    "kernelspec": {
      "name": "python3",
      "display_name": "Python 3"
    },
    "language_info": {
      "name": "python"
    }
  },
  "cells": [
    {
      "cell_type": "markdown",
      "metadata": {
        "id": "view-in-github",
        "colab_type": "text"
      },
      "source": [
        "<a href=\"https://colab.research.google.com/github/HakimTem/ProjectENZYME/blob/main/PROJECT_ENZYME.ipynb\" target=\"_parent\"><img src=\"https://colab.research.google.com/assets/colab-badge.svg\" alt=\"Open In Colab\"/></a>"
      ]
    },
    {
      "cell_type": "markdown",
      "source": [
        "# Download Repository\n",
        "We fetch from the public repo"
      ],
      "metadata": {
        "id": "Jo3GL5UyiF1Y"
      }
    },
    {
      "cell_type": "code",
      "execution_count": 1,
      "metadata": {
        "colab": {
          "base_uri": "https://localhost:8080/"
        },
        "id": "I3NZWK-wqOB-",
        "outputId": "19419aeb-4826-46d5-ba4a-df88b4530192"
      },
      "outputs": [
        {
          "output_type": "stream",
          "name": "stdout",
          "text": [
            "Cloning into 'ProjectENZYME'...\n",
            "remote: Enumerating objects: 12, done.\u001b[K\n",
            "remote: Counting objects: 100% (12/12), done.\u001b[K\n",
            "remote: Compressing objects: 100% (11/11), done.\u001b[K\n",
            "remote: Total 12 (delta 0), reused 0 (delta 0), pack-reused 0\u001b[K\n",
            "Unpacking objects: 100% (12/12), 7.74 MiB | 7.46 MiB/s, done.\n"
          ]
        }
      ],
      "source": [
        "!git clone https://github.com/HakimTem/ProjectENZYME.git"
      ]
    },
    {
      "cell_type": "markdown",
      "source": [
        "# Dataset Collection\n",
        "We shall use the UniProt dataset as this provides an annotation score, and it is fairly recent for our purposes.\n"
      ],
      "metadata": {
        "id": "1ifO0UtuCFkr"
      }
    },
    {
      "cell_type": "code",
      "source": [
        "import pandas as pd\n",
        "# Read first two csv files with '\\t' separator\n",
        "tsv1 = pd.read_csv(\"ProjectENZYME/EC1.tsv\", sep='\\t')\n",
        "tsv2 = pd.read_csv(\"ProjectENZYME/EC2.tsv\", sep='\\t')\n",
        "Cols=[\"Entry\", \"Entry Name\", \"EC number\",\"Sequence\"]\n",
        "# store the result in Output_df dataframe.\n",
        "Output_df = pd.merge(tsv1, tsv2, how=\"outer\", on=Cols)\n",
        "\n",
        "# # store remaining file names in list\n",
        "tsv_files=[]\n",
        "for i in range(3,8):\n",
        "  tsv_files.append('EC'+str(i)+'.tsv')\n",
        "\n",
        "\n",
        "# # One by one read tsv files and merge with\n",
        "# # 'Output_df' dataframe and again store\n",
        "# # the final result in Output_df\n",
        "for i in tsv_files:\n",
        "    path = \"ProjectENZYME/\"+i\n",
        "    tsv = pd.read_csv(path, sep='\\t')\n",
        "    Output_df = pd.merge(Output_df, tsv,\n",
        "                         how='outer',on=Cols)\n",
        "\n",
        "# # Now store the 'Output_df'\n",
        "# # in tsv file 'Output.tsv'\n",
        "Output_df.to_csv(\"ProjectENZYME/Output.tsv\",\n",
        "                 sep=\"\\t\", header=True,\n",
        "                 index=False)\n"
      ],
      "metadata": {
        "id": "gGm9bRf1gjJC"
      },
      "execution_count": null,
      "outputs": []
    }
  ]
}