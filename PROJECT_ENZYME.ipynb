{
  "nbformat": 4,
  "nbformat_minor": 0,
  "metadata": {
    "colab": {
      "provenance": [],
      "authorship_tag": "ABX9TyNkQTmpU0kydxb0xV9RA1GN",
      "include_colab_link": true
    },
    "kernelspec": {
      "name": "python3",
      "display_name": "Python 3"
    },
    "language_info": {
      "name": "python"
    }
  },
  "cells": [
    {
      "cell_type": "markdown",
      "metadata": {
        "id": "view-in-github",
        "colab_type": "text"
      },
      "source": [
        "<a href=\"https://colab.research.google.com/github/HakimTem/ProjectENZYME/blob/main/PROJECT_ENZYME.ipynb\" target=\"_parent\"><img src=\"https://colab.research.google.com/assets/colab-badge.svg\" alt=\"Open In Colab\"/></a>"
      ]
    },
    {
      "cell_type": "markdown",
      "source": [
        "# Download Repository\n",
        "We fetch from the public repo"
      ],
      "metadata": {
        "id": "Jo3GL5UyiF1Y"
      }
    },
    {
      "cell_type": "code",
      "execution_count": 1,
      "metadata": {
        "colab": {
          "base_uri": "https://localhost:8080/"
        },
        "id": "I3NZWK-wqOB-",
        "outputId": "77d755c1-9ff5-490a-803e-be4e25f82fe0"
      },
      "outputs": [
        {
          "output_type": "stream",
          "name": "stdout",
          "text": [
            "Cloning into 'ProjectENZYME'...\n",
            "remote: Enumerating objects: 12, done.\u001b[K\n",
            "remote: Counting objects: 100% (12/12), done.\u001b[K\n",
            "remote: Compressing objects: 100% (11/11), done.\u001b[K\n",
            "remote: Total 12 (delta 0), reused 0 (delta 0), pack-reused 0\u001b[K\n",
            "Unpacking objects: 100% (12/12), 7.74 MiB | 6.33 MiB/s, done.\n"
          ]
        }
      ],
      "source": [
        "!git clone https://github.com/HakimTem/ProjectENZYME.git"
      ]
    },
    {
      "cell_type": "markdown",
      "source": [
        "# Dataset Collection\n",
        "We shall use the UniProt dataset as this provides an annotation score, and it is fairly recent for our purposes.\n"
      ],
      "metadata": {
        "id": "1ifO0UtuCFkr"
      }
    },
    {
      "cell_type": "code",
      "source": [
        "import pandas as pd\n"
      ],
      "metadata": {
        "id": "gGm9bRf1gjJC"
      },
      "execution_count": null,
      "outputs": []
    }
  ]
}